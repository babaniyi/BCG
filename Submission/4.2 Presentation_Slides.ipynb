{
 "cells": [
  {
   "cell_type": "markdown",
   "metadata": {},
   "source": [
    "# 1. Situation\n",
    "PowerCo is a major gas and electricity utility that supplies to corporate, SME (Small & Medium Enterprise), and residential customers. The power-liberalization of the energy market in Europe has led to significant customer churn, especially in the SME segment. They have partnered with BCG to help diagnose the source of churning SME customers."
   ]
  },
  {
   "cell_type": "markdown",
   "metadata": {},
   "source": [
    "# 2. Complication\n",
    "\n",
    "Significant churn problem\n",
    "\n",
    "* Driven by power-liberalization of the energy market in Europe\n",
    "* Problem is largest in the SME segment"
   ]
  },
  {
   "cell_type": "markdown",
   "metadata": {},
   "source": [
    "# 3. Hypothesis\n",
    "One of the hypotheses under consideration is that churn is driven by the customers’ price sensitivities and that it is possible to predict customers likely to churn using a predictive model. The client also wants to try a discounting strategy, with the head of the SME division suggesting that offering customers at high propensity to churn a 20% discount might be effective."
   ]
  },
  {
   "cell_type": "markdown",
   "metadata": {},
   "source": [
    "# 4. Results\n",
    "\n",
    "1. Churn is **not due to price sensitivity alone**. In fact, price does not work alone, it is affected by other variables. Similar to other variables that influences churn, they don't work alone, they are influenced by other variables. \n",
    "\n",
    "2. Churn is driven mostly by:\n",
    "    * Forecasted power price for 1st period\n",
    "    * Electricity consumption of the past 12 months\n",
    "    * Price of energy for the 2nd period\n",
    "    * Subscribed power\n",
    "    * Electricity campaign the customer first subscribed to\n",
    "    * Forecasted bill of meter rental for the next 12 months.\n",
    " \n",
    "3. The company will spend 11% of its revenue on offering a 20% discount to high-propensity-to-churn customers. This is not the best strategy as the company as the cost is too high.\n",
    "\n",
    "4. The assumption that everyone who is offered a discount will accept it is not necessarily true in practice.\n",
    "\n",
    "5. Introducing a 20% discount strategy for customers with high propensity to churn will not dramatically lower churn rate. "
   ]
  },
  {
   "cell_type": "markdown",
   "metadata": {},
   "source": [
    "# 5. Recommendation\n",
    "To reduce the churn, the client should:\n",
    "\n",
    "1. **Know who are the churn probables:** Analyse churn as it occurs. Invest in a marketing analytics solution to identify user behaviour just before users are about to churn.\n",
    "\n",
    "2. **Figure out its most valuable customers:** It is best to have a different churn reduction strategy across various user segments. Focus attention on its best customers and allocate more resources to retaining them. Sometimes it is fine to let the unprofitable users churn. \n",
    "\n",
    "3. **Build Personalisation:** 75% of consumers are more likely to buy from a retailer that recognizes them by name and recommends products based on their purchase history.  It is not always about recommendations for new products, personalization an also be used on the pricing front and the user experience. Create how-to guides for features that the user has not experienced.\n",
    "\n",
    "4. **Make its best people deal with cancellations:** Get its best agents to talk to customers when they try to cancel. Train them to win back customer who want to leave. Human interaction will make a huge difference. \n",
    "\n",
    "5. **Create a community:** Building a community around your product or service will create a sense of belonging amongst the customers. They get to hear positive stories about the client. Additionally, the community also leans on each other to solve product-related problems. The community is a great sandbox to test new ideas that can reduce churn and build loyalty.\n",
    "\n",
    "6. **Surprise and delight your customers :** Create a user journey which has discounts or gifts when a customer enters the **churn probable** bucket. Make the customer feel special and get him to experience a success event that will convert him into becoming a loyal customer."
   ]
  }
 ],
 "metadata": {
  "kernelspec": {
   "display_name": "Python 3",
   "language": "python",
   "name": "python3"
  },
  "language_info": {
   "codemirror_mode": {
    "name": "ipython",
    "version": 3
   },
   "file_extension": ".py",
   "mimetype": "text/x-python",
   "name": "python",
   "nbconvert_exporter": "python",
   "pygments_lexer": "ipython3",
   "version": "3.8.5"
  }
 },
 "nbformat": 4,
 "nbformat_minor": 4
}
