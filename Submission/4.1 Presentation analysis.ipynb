{
 "cells": [
  {
   "cell_type": "code",
   "execution_count": 1,
   "metadata": {},
   "outputs": [],
   "source": [
    "import pandas as pd\n",
    "import numpy as np\n",
    "from pycaret.utils import check_metric\n",
    "from pycaret.classification import *"
   ]
  },
  {
   "cell_type": "markdown",
   "metadata": {},
   "source": [
    "The Predicted_Churn and Score columns are added onto the dataset where:\n",
    "\n",
    "\n",
    "1. **Predicted_Churn** is the prediction (where 1 = churn, 0 = not churn)\n",
    "2. **Score** is the probability of the prediction. "
   ]
  },
  {
   "cell_type": "code",
   "execution_count": 2,
   "metadata": {},
   "outputs": [
    {
     "data": {
      "text/html": [
       "<div>\n",
       "<style scoped>\n",
       "    .dataframe tbody tr th:only-of-type {\n",
       "        vertical-align: middle;\n",
       "    }\n",
       "\n",
       "    .dataframe tbody tr th {\n",
       "        vertical-align: top;\n",
       "    }\n",
       "\n",
       "    .dataframe thead th {\n",
       "        text-align: right;\n",
       "    }\n",
       "</style>\n",
       "<table border=\"1\" class=\"dataframe\">\n",
       "  <thead>\n",
       "    <tr style=\"text-align: right;\">\n",
       "      <th></th>\n",
       "      <th>channel_sales</th>\n",
       "      <th>cons_12m</th>\n",
       "      <th>cons_gas_12m</th>\n",
       "      <th>cons_last_month</th>\n",
       "      <th>forecast_cons_12m</th>\n",
       "      <th>forecast_cons_year</th>\n",
       "      <th>forecast_discount_energy</th>\n",
       "      <th>forecast_meter_rent_12m</th>\n",
       "      <th>forecast_price_energy_p1</th>\n",
       "      <th>forecast_price_energy_p2</th>\n",
       "      <th>forecast_price_pow_p1</th>\n",
       "      <th>has_gas</th>\n",
       "      <th>imp_cons</th>\n",
       "      <th>margin_gross_pow_ele</th>\n",
       "      <th>margin_net_pow_ele</th>\n",
       "      <th>nb_prod_act</th>\n",
       "      <th>net_margin</th>\n",
       "      <th>num_years_antig</th>\n",
       "      <th>origin_up</th>\n",
       "      <th>pow_max</th>\n",
       "      <th>price_p1_var</th>\n",
       "      <th>price_p2_var</th>\n",
       "      <th>price_p3_var</th>\n",
       "      <th>price_p1_fix</th>\n",
       "      <th>price_p2_fix</th>\n",
       "      <th>price_p3_fix</th>\n",
       "      <th>churn</th>\n",
       "      <th>Predicted_Churn</th>\n",
       "      <th>Score</th>\n",
       "    </tr>\n",
       "  </thead>\n",
       "  <tbody>\n",
       "    <tr>\n",
       "      <th>0</th>\n",
       "      <td>lmkebamcaaclubfxadlmueccxoimlema</td>\n",
       "      <td>287252</td>\n",
       "      <td>15063</td>\n",
       "      <td>25744</td>\n",
       "      <td>5212.75</td>\n",
       "      <td>4723</td>\n",
       "      <td>0.0</td>\n",
       "      <td>143.80</td>\n",
       "      <td>0.164057</td>\n",
       "      <td>0.100243</td>\n",
       "      <td>45.806878</td>\n",
       "      <td>t</td>\n",
       "      <td>499.55</td>\n",
       "      <td>37.56</td>\n",
       "      <td>37.56</td>\n",
       "      <td>2</td>\n",
       "      <td>515.93</td>\n",
       "      <td>6</td>\n",
       "      <td>lxidpiddsbxsbosboudacockeimpuepw</td>\n",
       "      <td>33.000</td>\n",
       "      <td>0.167699</td>\n",
       "      <td>0.105428</td>\n",
       "      <td>0.074570</td>\n",
       "      <td>44.444710</td>\n",
       "      <td>24.437330</td>\n",
       "      <td>16.291555</td>\n",
       "      <td>0</td>\n",
       "      <td>0</td>\n",
       "      <td>0.9813</td>\n",
       "    </tr>\n",
       "    <tr>\n",
       "      <th>1</th>\n",
       "      <td>foosdfpfkusacimwkcsosbicdxkicaua</td>\n",
       "      <td>8296</td>\n",
       "      <td>0</td>\n",
       "      <td>48</td>\n",
       "      <td>701.36</td>\n",
       "      <td>0</td>\n",
       "      <td>0.0</td>\n",
       "      <td>16.67</td>\n",
       "      <td>0.116900</td>\n",
       "      <td>0.000000</td>\n",
       "      <td>40.939027</td>\n",
       "      <td>f</td>\n",
       "      <td>0.00</td>\n",
       "      <td>15.45</td>\n",
       "      <td>15.24</td>\n",
       "      <td>1</td>\n",
       "      <td>72.30</td>\n",
       "      <td>4</td>\n",
       "      <td>ldkssxwpmemidmecebumciepifcamkci</td>\n",
       "      <td>13.200</td>\n",
       "      <td>0.127710</td>\n",
       "      <td>0.000000</td>\n",
       "      <td>0.000000</td>\n",
       "      <td>40.728885</td>\n",
       "      <td>0.000000</td>\n",
       "      <td>0.000000</td>\n",
       "      <td>0</td>\n",
       "      <td>0</td>\n",
       "      <td>0.9999</td>\n",
       "    </tr>\n",
       "    <tr>\n",
       "      <th>2</th>\n",
       "      <td>foosdfpfkusacimwkcsosbicdxkicaua</td>\n",
       "      <td>37402</td>\n",
       "      <td>0</td>\n",
       "      <td>3026</td>\n",
       "      <td>2254.76</td>\n",
       "      <td>1508</td>\n",
       "      <td>0.0</td>\n",
       "      <td>130.35</td>\n",
       "      <td>0.145711</td>\n",
       "      <td>0.098142</td>\n",
       "      <td>44.311378</td>\n",
       "      <td>f</td>\n",
       "      <td>170.26</td>\n",
       "      <td>27.14</td>\n",
       "      <td>27.14</td>\n",
       "      <td>1</td>\n",
       "      <td>227.31</td>\n",
       "      <td>6</td>\n",
       "      <td>lxidpiddsbxsbosboudacockeimpuepw</td>\n",
       "      <td>17.321</td>\n",
       "      <td>0.150211</td>\n",
       "      <td>0.100505</td>\n",
       "      <td>0.071536</td>\n",
       "      <td>44.266931</td>\n",
       "      <td>24.339581</td>\n",
       "      <td>16.226389</td>\n",
       "      <td>0</td>\n",
       "      <td>0</td>\n",
       "      <td>0.9999</td>\n",
       "    </tr>\n",
       "    <tr>\n",
       "      <th>3</th>\n",
       "      <td>foosdfpfkusacimwkcsosbicdxkicaua</td>\n",
       "      <td>9183</td>\n",
       "      <td>0</td>\n",
       "      <td>201</td>\n",
       "      <td>766.01</td>\n",
       "      <td>0</td>\n",
       "      <td>0.0</td>\n",
       "      <td>16.98</td>\n",
       "      <td>0.116910</td>\n",
       "      <td>0.000000</td>\n",
       "      <td>41.105201</td>\n",
       "      <td>f</td>\n",
       "      <td>0.00</td>\n",
       "      <td>16.44</td>\n",
       "      <td>16.44</td>\n",
       "      <td>1</td>\n",
       "      <td>78.33</td>\n",
       "      <td>4</td>\n",
       "      <td>ldkssxwpmemidmecebumciepifcamkci</td>\n",
       "      <td>13.200</td>\n",
       "      <td>0.129300</td>\n",
       "      <td>0.000000</td>\n",
       "      <td>0.000000</td>\n",
       "      <td>40.728885</td>\n",
       "      <td>0.000000</td>\n",
       "      <td>0.000000</td>\n",
       "      <td>0</td>\n",
       "      <td>0</td>\n",
       "      <td>0.9999</td>\n",
       "    </tr>\n",
       "    <tr>\n",
       "      <th>4</th>\n",
       "      <td>foosdfpfkusacimwkcsosbicdxkicaua</td>\n",
       "      <td>9551</td>\n",
       "      <td>0</td>\n",
       "      <td>258</td>\n",
       "      <td>793.55</td>\n",
       "      <td>0</td>\n",
       "      <td>0.0</td>\n",
       "      <td>17.21</td>\n",
       "      <td>0.116910</td>\n",
       "      <td>0.000000</td>\n",
       "      <td>41.271364</td>\n",
       "      <td>f</td>\n",
       "      <td>0.00</td>\n",
       "      <td>16.77</td>\n",
       "      <td>16.66</td>\n",
       "      <td>1</td>\n",
       "      <td>81.08</td>\n",
       "      <td>4</td>\n",
       "      <td>ldkssxwpmemidmecebumciepifcamkci</td>\n",
       "      <td>13.200</td>\n",
       "      <td>0.129444</td>\n",
       "      <td>0.000000</td>\n",
       "      <td>0.000000</td>\n",
       "      <td>41.063970</td>\n",
       "      <td>0.000000</td>\n",
       "      <td>0.000000</td>\n",
       "      <td>0</td>\n",
       "      <td>0</td>\n",
       "      <td>0.9999</td>\n",
       "    </tr>\n",
       "  </tbody>\n",
       "</table>\n",
       "</div>"
      ],
      "text/plain": [
       "                      channel_sales  cons_12m  cons_gas_12m  cons_last_month  \\\n",
       "0  lmkebamcaaclubfxadlmueccxoimlema    287252         15063            25744   \n",
       "1  foosdfpfkusacimwkcsosbicdxkicaua      8296             0               48   \n",
       "2  foosdfpfkusacimwkcsosbicdxkicaua     37402             0             3026   \n",
       "3  foosdfpfkusacimwkcsosbicdxkicaua      9183             0              201   \n",
       "4  foosdfpfkusacimwkcsosbicdxkicaua      9551             0              258   \n",
       "\n",
       "   forecast_cons_12m  forecast_cons_year  forecast_discount_energy  \\\n",
       "0            5212.75                4723                       0.0   \n",
       "1             701.36                   0                       0.0   \n",
       "2            2254.76                1508                       0.0   \n",
       "3             766.01                   0                       0.0   \n",
       "4             793.55                   0                       0.0   \n",
       "\n",
       "   forecast_meter_rent_12m  forecast_price_energy_p1  \\\n",
       "0                   143.80                  0.164057   \n",
       "1                    16.67                  0.116900   \n",
       "2                   130.35                  0.145711   \n",
       "3                    16.98                  0.116910   \n",
       "4                    17.21                  0.116910   \n",
       "\n",
       "   forecast_price_energy_p2  forecast_price_pow_p1 has_gas  imp_cons  \\\n",
       "0                  0.100243              45.806878       t    499.55   \n",
       "1                  0.000000              40.939027       f      0.00   \n",
       "2                  0.098142              44.311378       f    170.26   \n",
       "3                  0.000000              41.105201       f      0.00   \n",
       "4                  0.000000              41.271364       f      0.00   \n",
       "\n",
       "   margin_gross_pow_ele  margin_net_pow_ele  nb_prod_act  net_margin  \\\n",
       "0                 37.56               37.56            2      515.93   \n",
       "1                 15.45               15.24            1       72.30   \n",
       "2                 27.14               27.14            1      227.31   \n",
       "3                 16.44               16.44            1       78.33   \n",
       "4                 16.77               16.66            1       81.08   \n",
       "\n",
       "   num_years_antig                         origin_up  pow_max  price_p1_var  \\\n",
       "0                6  lxidpiddsbxsbosboudacockeimpuepw   33.000      0.167699   \n",
       "1                4  ldkssxwpmemidmecebumciepifcamkci   13.200      0.127710   \n",
       "2                6  lxidpiddsbxsbosboudacockeimpuepw   17.321      0.150211   \n",
       "3                4  ldkssxwpmemidmecebumciepifcamkci   13.200      0.129300   \n",
       "4                4  ldkssxwpmemidmecebumciepifcamkci   13.200      0.129444   \n",
       "\n",
       "   price_p2_var  price_p3_var  price_p1_fix  price_p2_fix  price_p3_fix  \\\n",
       "0      0.105428      0.074570     44.444710     24.437330     16.291555   \n",
       "1      0.000000      0.000000     40.728885      0.000000      0.000000   \n",
       "2      0.100505      0.071536     44.266931     24.339581     16.226389   \n",
       "3      0.000000      0.000000     40.728885      0.000000      0.000000   \n",
       "4      0.000000      0.000000     41.063970      0.000000      0.000000   \n",
       "\n",
       "   churn  Predicted_Churn   Score  \n",
       "0      0                0  0.9813  \n",
       "1      0                0  0.9999  \n",
       "2      0                0  0.9999  \n",
       "3      0                0  0.9999  \n",
       "4      0                0  0.9999  "
      ]
     },
     "execution_count": 2,
     "metadata": {},
     "output_type": "execute_result"
    }
   ],
   "source": [
    "data_predictions = pd.read_csv('data_predictions.csv')\n",
    "data_predictions.rename(columns = {'Label': 'Predicted_Churn'}, inplace=True)\n",
    "data_predictions.head()"
   ]
  },
  {
   "cell_type": "markdown",
   "metadata": {},
   "source": [
    "## 1. Evaluating the performance of the model on the data\n",
    "Below is an overview of the performance of the model on the full data. The model is perfect, it only misclassified 16 retained customers as churned, other than that it performs very well 99% of the time."
   ]
  },
  {
   "cell_type": "code",
   "execution_count": 3,
   "metadata": {},
   "outputs": [
    {
     "data": {
      "text/html": [
       "<div>\n",
       "<style scoped>\n",
       "    .dataframe tbody tr th:only-of-type {\n",
       "        vertical-align: middle;\n",
       "    }\n",
       "\n",
       "    .dataframe tbody tr th {\n",
       "        vertical-align: top;\n",
       "    }\n",
       "\n",
       "    .dataframe thead th {\n",
       "        text-align: right;\n",
       "    }\n",
       "</style>\n",
       "<table border=\"1\" class=\"dataframe\">\n",
       "  <thead>\n",
       "    <tr style=\"text-align: right;\">\n",
       "      <th>Predicted_Churn</th>\n",
       "      <th>0</th>\n",
       "      <th>1</th>\n",
       "    </tr>\n",
       "    <tr>\n",
       "      <th>churn</th>\n",
       "      <th></th>\n",
       "      <th></th>\n",
       "    </tr>\n",
       "  </thead>\n",
       "  <tbody>\n",
       "    <tr>\n",
       "      <th>0</th>\n",
       "      <td>146903</td>\n",
       "      <td>16</td>\n",
       "    </tr>\n",
       "    <tr>\n",
       "      <th>1</th>\n",
       "      <td>0</td>\n",
       "      <td>18098</td>\n",
       "    </tr>\n",
       "  </tbody>\n",
       "</table>\n",
       "</div>"
      ],
      "text/plain": [
       "Predicted_Churn       0      1\n",
       "churn                         \n",
       "0                146903     16\n",
       "1                     0  18098"
      ]
     },
     "execution_count": 3,
     "metadata": {},
     "output_type": "execute_result"
    }
   ],
   "source": [
    "pd.crosstab(data_predictions['churn'], data_predictions['Predicted_Churn'])"
   ]
  },
  {
   "cell_type": "markdown",
   "metadata": {},
   "source": [
    "#### 1.1 Accuracy\n",
    "it is simply a ratio of correctly predicted observation to the total observations. The model has a 99% accuracy."
   ]
  },
  {
   "cell_type": "code",
   "execution_count": 4,
   "metadata": {},
   "outputs": [
    {
     "data": {
      "text/plain": [
       "0.9999"
      ]
     },
     "execution_count": 4,
     "metadata": {},
     "output_type": "execute_result"
    }
   ],
   "source": [
    "check_metric(data_predictions['churn'], data_predictions['Predicted_Churn'], metric = 'Accuracy')"
   ]
  },
  {
   "cell_type": "markdown",
   "metadata": {},
   "source": [
    "#### 1.2 Precision\n",
    "The ratio of correctly predicted positive observations to the total predicted positive observations. The model has a 99% precision."
   ]
  },
  {
   "cell_type": "code",
   "execution_count": 5,
   "metadata": {},
   "outputs": [
    {
     "data": {
      "text/plain": [
       "0.9991"
      ]
     },
     "execution_count": 5,
     "metadata": {},
     "output_type": "execute_result"
    }
   ],
   "source": [
    "check_metric(data_predictions['churn'], data_predictions['Predicted_Churn'], metric = 'Precision')"
   ]
  },
  {
   "cell_type": "markdown",
   "metadata": {},
   "source": [
    "#### 1.3 Recall (a.k.a Sensitivity)\n",
    "The ratio of correctly predicted positive observations to the all observations in actual class"
   ]
  },
  {
   "cell_type": "code",
   "execution_count": 6,
   "metadata": {},
   "outputs": [
    {
     "data": {
      "text/plain": [
       "1.0"
      ]
     },
     "execution_count": 6,
     "metadata": {},
     "output_type": "execute_result"
    }
   ],
   "source": [
    "check_metric(data_predictions['churn'], data_predictions['Predicted_Churn'], metric = 'Recall')"
   ]
  },
  {
   "cell_type": "markdown",
   "metadata": {},
   "source": [
    "## 2. Business Impact"
   ]
  },
  {
   "cell_type": "markdown",
   "metadata": {},
   "source": [
    "**The SME division head proposed that we give a 20% discount to high propensity-to-churn customers.**\n",
    "\n",
    "However we need a cut-off to implement this, for this study, i used 75%. In other words, we will offer the discount to customers with 75% or higher probability of churning.\n",
    "\n",
    "**Assumption:** Everyone who is offered a discount will accept it."
   ]
  },
  {
   "cell_type": "code",
   "execution_count": 7,
   "metadata": {},
   "outputs": [],
   "source": [
    "data_predictions['revenue'] = data_predictions['forecast_cons_12m'] * data_predictions['forecast_price_energy_p1'] \n",
    "data_new = data_predictions[['churn','Predicted_Churn', 'Score', 'revenue']]"
   ]
  },
  {
   "cell_type": "code",
   "execution_count": 8,
   "metadata": {},
   "outputs": [],
   "source": [
    "def churn_cutoff(df, cutoff=0.75, churn='Predicted_Churn', score='Score'):\n",
    "    df = df[df[churn] == 1]\n",
    "    df = df[df[score] >= cutoff]\n",
    "    df = df.sort_values(by='Score', ascending=False)\n",
    "    df = df.reset_index(drop=True)\n",
    "    return df"
   ]
  },
  {
   "cell_type": "code",
   "execution_count": 9,
   "metadata": {},
   "outputs": [
    {
     "data": {
      "text/plain": [
       "(18114, 4)"
      ]
     },
     "execution_count": 9,
     "metadata": {},
     "output_type": "execute_result"
    }
   ],
   "source": [
    "data_churn = churn_cutoff(data_new)\n",
    "data_churn.shape"
   ]
  },
  {
   "cell_type": "code",
   "execution_count": 10,
   "metadata": {},
   "outputs": [
    {
     "data": {
      "text/html": [
       "<div>\n",
       "<style scoped>\n",
       "    .dataframe tbody tr th:only-of-type {\n",
       "        vertical-align: middle;\n",
       "    }\n",
       "\n",
       "    .dataframe tbody tr th {\n",
       "        vertical-align: top;\n",
       "    }\n",
       "\n",
       "    .dataframe thead th {\n",
       "        text-align: right;\n",
       "    }\n",
       "</style>\n",
       "<table border=\"1\" class=\"dataframe\">\n",
       "  <thead>\n",
       "    <tr style=\"text-align: right;\">\n",
       "      <th></th>\n",
       "      <th>churn</th>\n",
       "      <th>Predicted_Churn</th>\n",
       "      <th>Score</th>\n",
       "      <th>revenue</th>\n",
       "    </tr>\n",
       "  </thead>\n",
       "  <tbody>\n",
       "    <tr>\n",
       "      <th>0</th>\n",
       "      <td>1</td>\n",
       "      <td>1</td>\n",
       "      <td>0.9998</td>\n",
       "      <td>5502.921301</td>\n",
       "    </tr>\n",
       "    <tr>\n",
       "      <th>1</th>\n",
       "      <td>1</td>\n",
       "      <td>1</td>\n",
       "      <td>0.9998</td>\n",
       "      <td>1326.584700</td>\n",
       "    </tr>\n",
       "    <tr>\n",
       "      <th>2</th>\n",
       "      <td>1</td>\n",
       "      <td>1</td>\n",
       "      <td>0.9998</td>\n",
       "      <td>2619.068816</td>\n",
       "    </tr>\n",
       "    <tr>\n",
       "      <th>3</th>\n",
       "      <td>1</td>\n",
       "      <td>1</td>\n",
       "      <td>0.9998</td>\n",
       "      <td>1087.056729</td>\n",
       "    </tr>\n",
       "    <tr>\n",
       "      <th>4</th>\n",
       "      <td>1</td>\n",
       "      <td>1</td>\n",
       "      <td>0.9998</td>\n",
       "      <td>1597.239075</td>\n",
       "    </tr>\n",
       "  </tbody>\n",
       "</table>\n",
       "</div>"
      ],
      "text/plain": [
       "   churn  Predicted_Churn   Score      revenue\n",
       "0      1                1  0.9998  5502.921301\n",
       "1      1                1  0.9998  1326.584700\n",
       "2      1                1  0.9998  2619.068816\n",
       "3      1                1  0.9998  1087.056729\n",
       "4      1                1  0.9998  1597.239075"
      ]
     },
     "execution_count": 10,
     "metadata": {},
     "output_type": "execute_result"
    }
   ],
   "source": [
    "data_churn.head()"
   ]
  },
  {
   "cell_type": "markdown",
   "metadata": {},
   "source": [
    "It is important to note that almost all the customers who churned are certainly predicted to churn by the model (Score>=0.95)."
   ]
  },
  {
   "cell_type": "code",
   "execution_count": 11,
   "metadata": {},
   "outputs": [
    {
     "name": "stdout",
     "output_type": "stream",
     "text": [
      "Percentage of revenue spent on discount strategy for churning customers:  11.0\n"
     ]
    }
   ],
   "source": [
    "print(\"Percentage of revenue spent on discount strategy for churning customers: \",\n",
    "      round(data_churn['revenue'].sum()*0.2/data_predictions['revenue'].sum(),2)*100)"
   ]
  },
  {
   "cell_type": "markdown",
   "metadata": {},
   "source": [
    "The company will spend 11% of its revenue on offering a 20% discount to **high-propensity-to-churn** customers.\n",
    "This is not the best strategy as the company as the cost is too high."
   ]
  }
 ],
 "metadata": {
  "kernelspec": {
   "display_name": "Python 3",
   "language": "python",
   "name": "python3"
  },
  "language_info": {
   "codemirror_mode": {
    "name": "ipython",
    "version": 3
   },
   "file_extension": ".py",
   "mimetype": "text/x-python",
   "name": "python",
   "nbconvert_exporter": "python",
   "pygments_lexer": "ipython3",
   "version": "3.8.5"
  }
 },
 "nbformat": 4,
 "nbformat_minor": 4
}
